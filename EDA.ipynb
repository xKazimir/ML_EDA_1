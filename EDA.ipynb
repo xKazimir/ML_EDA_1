{
 "cells": [
  {
   "cell_type": "code",
   "execution_count": 1,
   "id": "3326ecd4-3d0a-4be3-ad54-6dd4961412d6",
   "metadata": {},
   "outputs": [
    {
     "ename": "SyntaxError",
     "evalue": "invalid syntax (4210633160.py, line 1)",
     "output_type": "error",
     "traceback": [
      "\u001b[0;36m  Cell \u001b[0;32mIn[1], line 1\u001b[0;36m\u001b[0m\n\u001b[0;31m    https://www.youtube.com/redirect?event=video_description&redir_token=QUFFLUhqblRxbUdubnlpaV9UQ04xS2RWUTBUWHgxSTY2Z3xBQ3Jtc0tsYVRELXFaQXItSURBcDlyeE9xQkd2d0lucm5vNnU0Z0QzUFBRNzI0MVNqTGpfZWVZYWFDamZ1MlppSGlYM0hSdUZlVHN5VXpMSU5nQXUtT09oQ1g1YTE2RHlPQlY2cDR6YzgzaTA1RXVlNGZQMEFDSQ&q=https%3A%2F%2Fwww.kaggle.com%2Fdatasets%2Faiaiaidavid%2Fthe-big-dataset-of-ultra-marathon-running%2Fdiscussion%2F420633&v=4sZFkPw87ng\u001b[0m\n\u001b[0m          ^\u001b[0m\n\u001b[0;31mSyntaxError\u001b[0m\u001b[0;31m:\u001b[0m invalid syntax\n"
     ]
    }
   ],
   "source": [
    "https://www.youtube.com/redirect?event=video_description&redir_token=QUFFLUhqblRxbUdubnlpaV9UQ04xS2RWUTBUWHgxSTY2Z3xBQ3Jtc0tsYVRELXFaQXItSURBcDlyeE9xQkd2d0lucm5vNnU0Z0QzUFBRNzI0MVNqTGpfZWVZYWFDamZ1MlppSGlYM0hSdUZlVHN5VXpMSU5nQXUtT09oQ1g1YTE2RHlPQlY2cDR6YzgzaTA1RXVlNGZQMEFDSQ&q=https%3A%2F%2Fwww.kaggle.com%2Fdatasets%2Faiaiaidavid%2Fthe-big-dataset-of-ultra-marathon-running%2Fdiscussion%2F420633&v=4sZFkPw87ng"
   ]
  }
 ],
 "metadata": {
  "kernelspec": {
   "display_name": "Python 3 (ipykernel)",
   "language": "python",
   "name": "python3"
  },
  "language_info": {
   "codemirror_mode": {
    "name": "ipython",
    "version": 3
   },
   "file_extension": ".py",
   "mimetype": "text/x-python",
   "name": "python",
   "nbconvert_exporter": "python",
   "pygments_lexer": "ipython3",
   "version": "3.9.6"
  }
 },
 "nbformat": 4,
 "nbformat_minor": 5
}
